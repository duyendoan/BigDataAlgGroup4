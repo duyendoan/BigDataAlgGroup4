{
 "cells": [
  {
   "cell_type": "markdown",
   "metadata": {},
   "source": [
    "## 4. dirrectly calculate cosine similarities for every pair of movies \n"
   ]
  },
  {
   "cell_type": "code",
   "execution_count": 2,
   "metadata": {},
   "outputs": [],
   "source": [
    "import pandas as pd \n",
    "import os\n",
    "import numpy as np\n",
    "\n",
    "from sklearn.metrics.pairwise import linear_kernel,cosine_similarity"
   ]
  },
  {
   "cell_type": "markdown",
   "metadata": {},
   "source": [
    "#### read the combined file, which should have the title of a movie and we can find the ID of that movie and find similar movies\n"
   ]
  },
  {
   "cell_type": "code",
   "execution_count": 3,
   "metadata": {},
   "outputs": [],
   "source": [
    "combined = pd.read_csv('data/combined_info.csv',index_col=0)"
   ]
  },
  {
   "cell_type": "code",
   "execution_count": 4,
   "metadata": {},
   "outputs": [],
   "source": [
    "feature_df = pd.read_csv('data/movie_norm_featureMatrix_sample.csv',index_col=0)"
   ]
  },
  {
   "cell_type": "code",
   "execution_count": 5,
   "metadata": {},
   "outputs": [
    {
     "data": {
      "text/plain": [
       "(2000, 4204)"
      ]
     },
     "execution_count": 5,
     "metadata": {},
     "output_type": "execute_result"
    }
   ],
   "source": [
    "featureMatrix = np.array(feature_df)\n",
    "featureMatrix.shape"
   ]
  },
  {
   "cell_type": "code",
   "execution_count": 7,
   "metadata": {},
   "outputs": [
    {
     "name": "stdout",
     "output_type": "stream",
     "text": [
      "Wall time: 202 ms\n"
     ]
    }
   ],
   "source": [
    "%%time\n",
    "# Compute the pairwise cosine similarity matrix\n",
    "# cosine_sim = linear_kernel(featureMatrix, featureMatrix)\n",
    "cosine_sim = cosine_similarity(featureMatrix, featureMatrix)"
   ]
  },
  {
   "cell_type": "code",
   "execution_count": 6,
   "metadata": {},
   "outputs": [],
   "source": [
    "cosine_sim = pd.DataFrame(cosine_sim,index=feature_df.index,columns=feature_df.index)"
   ]
  },
  {
   "cell_type": "code",
   "execution_count": 7,
   "metadata": {},
   "outputs": [],
   "source": [
    "#Construct a reverse map of indices and movie titles\n",
    "indices = pd.Series(combined.index, index=combined['title']).drop_duplicates()"
   ]
  },
  {
   "cell_type": "code",
   "execution_count": 24,
   "metadata": {},
   "outputs": [],
   "source": [
    "# Function that takes in movie title as input and outputs most similar movies\n",
    "def get_recommendations(title, cosine_sim=cosine_sim):\n",
    "    \"\"\"\n",
    "    Given a movie title, we first find it's movieID, then get the pairwsie similarity scores of all movies with that movie,\n",
    "    sort the movies based on cosine similarity scores return the ID of the 10 most similar movies if it has\n",
    "    \"\"\"\n",
    "    idx = indices[title]\n",
    "    sim_scores = cosine_sim.loc[idx,:].sort_values(ascending=False)\n",
    "    movie_indices = list(sim_scores.index[1:11])\n",
    "    recom_list = []\n",
    "    for i in movie_indices:\n",
    "        a = combined.loc[i,'title']\n",
    "        recom_list.append(a)\n",
    "    \n",
    "    return recom_list"
   ]
  },
  {
   "cell_type": "code",
   "execution_count": 25,
   "metadata": {},
   "outputs": [
    {
     "data": {
      "text/plain": [
       "['The Princess Bride',\n",
       " 'The Wizard of Oz',\n",
       " 'Labyrinth',\n",
       " 'Return to Oz',\n",
       " 'Small Soldiers',\n",
       " 'Aladdin and the King of Thieves',\n",
       " 'The Indian in the Cupboard',\n",
       " 'The Fifth Element',\n",
       " 'Back to the Future Part II',\n",
       " 'Aladdin']"
      ]
     },
     "execution_count": 25,
     "metadata": {},
     "output_type": "execute_result"
    }
   ],
   "source": [
    "get_recommendations('Jumanji')"
   ]
  }
 ],
 "metadata": {
  "kernelspec": {
   "display_name": "Python 3",
   "language": "python",
   "name": "python3"
  },
  "language_info": {
   "codemirror_mode": {
    "name": "ipython",
    "version": 3
   },
   "file_extension": ".py",
   "mimetype": "text/x-python",
   "name": "python",
   "nbconvert_exporter": "python",
   "pygments_lexer": "ipython3",
   "version": "3.7.5"
  }
 },
 "nbformat": 4,
 "nbformat_minor": 2
}
