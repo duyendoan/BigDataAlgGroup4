{
 "cells": [
  {
   "cell_type": "code",
   "execution_count": 2,
   "id": "05865614",
   "metadata": {},
   "outputs": [],
   "source": [
    "#import required modules\n",
    "import pandas as pd\n",
    "import re\n",
    "import json"
   ]
  },
  {
   "cell_type": "code",
   "execution_count": 3,
   "id": "adaf1905",
   "metadata": {},
   "outputs": [
    {
     "name": "stdout",
     "output_type": "stream",
     "text": [
      "credits.csv   links.csv        main.ipynb           ratings.csv\r\n",
      "keywords.csv  links_small.csv  movies_metadata.csv  ratings_small.csv\r\n"
     ]
    }
   ],
   "source": [
    "%ls ~/big_data_group_project/movie_recommendation/kaggle_movie_dataset"
   ]
  },
  {
   "cell_type": "code",
   "execution_count": 4,
   "id": "63e8a222",
   "metadata": {},
   "outputs": [
    {
     "name": "stderr",
     "output_type": "stream",
     "text": [
      "/home/d2/.local/lib/python3.9/site-packages/IPython/core/interactiveshell.py:3441: DtypeWarning: Columns (10) have mixed types.Specify dtype option on import or set low_memory=False.\n",
      "  exec(code_obj, self.user_global_ns, self.user_ns)\n"
     ]
    }
   ],
   "source": [
    "movies_metadata = pd.read_csv('~/big_data_group_project/movie_recommendation/kaggle_movie_dataset/movies_metadata.csv',\\\n",
    "delimiter=',')\n",
    "#movies_metadata.head()\n",
    "#movies_metadata.dtypes\n",
    "credits = pd.read_csv('~/big_data_group_project/movie_recommendation/kaggle_movie_dataset/credits.csv',\\\n",
    "delimiter=',')\n",
    "#credits.head()"
   ]
  },
  {
   "cell_type": "code",
   "execution_count": 28,
   "id": "f8502790",
   "metadata": {
    "scrolled": true
   },
   "outputs": [
    {
     "data": {
      "text/plain": [
       "0     Animation Comedy Family \n",
       "1    Adventure Fantasy Family \n",
       "2              Romance Comedy \n",
       "3        Comedy Drama Romance \n",
       "4                      Comedy \n",
       "Name: genres1, dtype: object"
      ]
     },
     "execution_count": 28,
     "metadata": {},
     "output_type": "execute_result"
    }
   ],
   "source": [
    "#concatenate genres and append to dataframe\n",
    "t=''\n",
    "l=[]\n",
    "for s in movies_metadata['genres']:\n",
    "    for x in list(eval(s)):\n",
    "        t+=(x['name']) + ' '\n",
    "    l.append(t)\n",
    "    t=''\n",
    "movies_metadata['genres1']=pd.DataFrame(l)\n",
    "movies_metadata['genres1'].head()"
   ]
  },
  {
   "cell_type": "code",
   "execution_count": 35,
   "id": "d53a4036",
   "metadata": {},
   "outputs": [
    {
     "data": {
      "text/html": [
       "<div>\n",
       "<style scoped>\n",
       "    .dataframe tbody tr th:only-of-type {\n",
       "        vertical-align: middle;\n",
       "    }\n",
       "\n",
       "    .dataframe tbody tr th {\n",
       "        vertical-align: top;\n",
       "    }\n",
       "\n",
       "    .dataframe thead th {\n",
       "        text-align: right;\n",
       "    }\n",
       "</style>\n",
       "<table border=\"1\" class=\"dataframe\">\n",
       "  <thead>\n",
       "    <tr style=\"text-align: right;\">\n",
       "      <th></th>\n",
       "      <th>myData</th>\n",
       "    </tr>\n",
       "  </thead>\n",
       "  <tbody>\n",
       "    <tr>\n",
       "      <th>0</th>\n",
       "      <td>Animation Comedy Family  Tom Hanks Tim Allen D...</td>\n",
       "    </tr>\n",
       "    <tr>\n",
       "      <th>1</th>\n",
       "      <td>Adventure Fantasy Family  Robin Williams Jonat...</td>\n",
       "    </tr>\n",
       "    <tr>\n",
       "      <th>2</th>\n",
       "      <td>Romance Comedy  Walter Matthau Jack Lemmon Ann...</td>\n",
       "    </tr>\n",
       "    <tr>\n",
       "      <th>3</th>\n",
       "      <td>Comedy Drama Romance  Whitney Houston Angela B...</td>\n",
       "    </tr>\n",
       "    <tr>\n",
       "      <th>4</th>\n",
       "      <td>Comedy  Steve Martin Diane Keaton Martin Short...</td>\n",
       "    </tr>\n",
       "  </tbody>\n",
       "</table>\n",
       "</div>"
      ],
      "text/plain": [
       "                                              myData\n",
       "0  Animation Comedy Family  Tom Hanks Tim Allen D...\n",
       "1  Adventure Fantasy Family  Robin Williams Jonat...\n",
       "2  Romance Comedy  Walter Matthau Jack Lemmon Ann...\n",
       "3  Comedy Drama Romance  Whitney Houston Angela B...\n",
       "4  Comedy  Steve Martin Diane Keaton Martin Short..."
      ]
     },
     "execution_count": 35,
     "metadata": {},
     "output_type": "execute_result"
    }
   ],
   "source": [
    "#concatenate cast and append to dataframe\n",
    "t=''\n",
    "l=[]\n",
    "for s in credits['cast']:\n",
    "    for x in list(eval(s)):\n",
    "        t+=(x['name']) + ' '\n",
    "    l.append(t)\n",
    "    t=''\n",
    "credits['cast1']=pd.DataFrame(l)\n",
    "credits.head()\n",
    "#credits.loc[:,'cast1']\n",
    "myData=pd.DataFrame(data=movies_metadata['genres1'] + ' ' + credits['cast1'], columns=['myData'])\n",
    "myData.head()"
   ]
  },
  {
   "cell_type": "code",
   "execution_count": null,
   "id": "f2d6ea19",
   "metadata": {},
   "outputs": [],
   "source": []
  },
  {
   "cell_type": "code",
   "execution_count": null,
   "id": "b678c9ea",
   "metadata": {},
   "outputs": [],
   "source": []
  },
  {
   "cell_type": "code",
   "execution_count": null,
   "id": "b955d52c",
   "metadata": {},
   "outputs": [],
   "source": []
  },
  {
   "cell_type": "code",
   "execution_count": null,
   "id": "b9cbb633",
   "metadata": {},
   "outputs": [],
   "source": []
  },
  {
   "cell_type": "code",
   "execution_count": null,
   "id": "5a1eb93c",
   "metadata": {},
   "outputs": [],
   "source": []
  },
  {
   "cell_type": "code",
   "execution_count": null,
   "id": "4c8f3ca0",
   "metadata": {},
   "outputs": [],
   "source": []
  },
  {
   "cell_type": "code",
   "execution_count": null,
   "id": "2fc47b66",
   "metadata": {},
   "outputs": [],
   "source": []
  }
 ],
 "metadata": {
  "kernelspec": {
   "display_name": "Python 3 (ipykernel)",
   "language": "python",
   "name": "python3"
  },
  "language_info": {
   "codemirror_mode": {
    "name": "ipython",
    "version": 3
   },
   "file_extension": ".py",
   "mimetype": "text/x-python",
   "name": "python",
   "nbconvert_exporter": "python",
   "pygments_lexer": "ipython3",
   "version": "3.9.7"
  }
 },
 "nbformat": 4,
 "nbformat_minor": 5
}
