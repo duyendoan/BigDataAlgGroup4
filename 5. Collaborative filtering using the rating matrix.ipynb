{
 "cells": [
  {
   "cell_type": "markdown",
   "metadata": {},
   "source": [
    "## 5. collaborative filtering\n",
    "`ratings_small.csv`: The subset of 100,000 ratings from 700 users on 9,000 movies. Can be used for **Collaborative Filtering**"
   ]
  },
  {
   "cell_type": "code",
   "execution_count": 1,
   "metadata": {},
   "outputs": [],
   "source": [
    "import pandas as pd \n",
    "import numpy as np\n",
    "from surprise import Dataset\n",
    "from surprise import Reader\n",
    "from surprise import SVD\n",
    "from surprise import accuracy\n",
    "from surprise import dump\n",
    "from surprise.model_selection import GridSearchCV"
   ]
  },
  {
   "cell_type": "code",
   "execution_count": 2,
   "metadata": {},
   "outputs": [],
   "source": [
    "rating = pd.read_csv('data/ratings_small.csv')"
   ]
  },
  {
   "cell_type": "code",
   "execution_count": 3,
   "metadata": {},
   "outputs": [],
   "source": [
    "reader = Reader()\n",
    "data = Dataset.load_from_df(rating[['userId', 'movieId', 'rating']], reader)"
   ]
  },
  {
   "cell_type": "code",
   "execution_count": 20,
   "metadata": {},
   "outputs": [],
   "source": [
    "trainset, testset = train_test_split(data, test_size=0.2)\n",
    "alg = SVD()"
   ]
  },
  {
   "cell_type": "code",
   "execution_count": 22,
   "metadata": {},
   "outputs": [],
   "source": [
    "alg.fit(trainset)\n",
    "predictions = alg.test(testset)"
   ]
  },
  {
   "cell_type": "code",
   "execution_count": 23,
   "metadata": {},
   "outputs": [
    {
     "name": "stdout",
     "output_type": "stream",
     "text": [
      "RMSE: 0.8971\n"
     ]
    },
    {
     "data": {
      "text/plain": [
       "0.8970901599273817"
      ]
     },
     "execution_count": 23,
     "metadata": {},
     "output_type": "execute_result"
    }
   ],
   "source": [
    "accuracy.rmse(predictions)"
   ]
  },
  {
   "cell_type": "markdown",
   "metadata": {},
   "source": [
    "## SVD algorithm  \n",
    "1. train on a whole trainset using SVD   \n",
    "2. use gridsearchcv to find optimal parameters  \n",
    "3. get the *best_estimator* and used the predict () method to predict the rating of a specific user-item pair "
   ]
  },
  {
   "cell_type": "code",
   "execution_count": 4,
   "metadata": {},
   "outputs": [
    {
     "name": "stdout",
     "output_type": "stream",
     "text": [
      "0.9146270401244182\n",
      "{'n_epochs': 10, 'lr_all': 0.005, 'reg_all': 0.4}\n"
     ]
    }
   ],
   "source": [
    "from surprise import SVD\n",
    "\n",
    "param_grid = {\n",
    "    \"n_epochs\": [5, 10],\n",
    "    \"lr_all\": [0.002, 0.005],\n",
    "    \"reg_all\": [0.4, 0.6]\n",
    "}\n",
    "gs = GridSearchCV(SVD, param_grid, measures=[\"rmse\", \"mae\"], cv=3)\n",
    "\n",
    "gs.fit(data)\n",
    "\n",
    "print(gs.best_score[\"rmse\"])\n",
    "print(gs.best_params[\"rmse\"])"
   ]
  },
  {
   "cell_type": "code",
   "execution_count": 5,
   "metadata": {},
   "outputs": [
    {
     "data": {
      "text/plain": [
       "<surprise.prediction_algorithms.matrix_factorization.SVD at 0x1ae44531280>"
      ]
     },
     "execution_count": 5,
     "metadata": {},
     "output_type": "execute_result"
    }
   ],
   "source": [
    "alg = gs.best_estimator['rmse']\n",
    "alg.fit(data.build_full_trainset())"
   ]
  },
  {
   "cell_type": "markdown",
   "metadata": {},
   "source": [
    "#### predict the rating of a user-movie pair and compare with the true value"
   ]
  },
  {
   "cell_type": "code",
   "execution_count": 6,
   "metadata": {},
   "outputs": [],
   "source": [
    "pred = alg.predict(uid=1,iid=31,r_ui =2.5)"
   ]
  },
  {
   "cell_type": "code",
   "execution_count": 17,
   "metadata": {},
   "outputs": [
    {
     "data": {
      "text/plain": [
       "2.778933473559862"
      ]
     },
     "execution_count": 17,
     "metadata": {},
     "output_type": "execute_result"
    }
   ],
   "source": [
    "pred.est"
   ]
  },
  {
   "cell_type": "markdown",
   "metadata": {},
   "source": [
    "#### save predictions and model for future use"
   ]
  },
  {
   "cell_type": "code",
   "execution_count": 54,
   "metadata": {},
   "outputs": [
    {
     "name": "stdout",
     "output_type": "stream",
     "text": [
      "The dump has been saved as file try\n"
     ]
    }
   ],
   "source": [
    "dump.dump('try',algo=alg,verbose=1)"
   ]
  },
  {
   "cell_type": "code",
   "execution_count": 57,
   "metadata": {},
   "outputs": [],
   "source": [
    "pred, alg = dump.load('try')"
   ]
  },
  {
   "cell_type": "code",
   "execution_count": 59,
   "metadata": {},
   "outputs": [
    {
     "data": {
      "text/plain": [
       "Prediction(uid=1, iid=31, r_ui=2.5, est=2.7816008162786963, details={'was_impossible': False})"
      ]
     },
     "execution_count": 59,
     "metadata": {},
     "output_type": "execute_result"
    }
   ],
   "source": [
    "alg.predict(uid=1,iid=31,r_ui =2.5)"
   ]
  },
  {
   "cell_type": "markdown",
   "metadata": {},
   "source": [
    "### recommend movies for a specific user  \n",
    "when give a user ID we can get the ratings predictions of all movies for that user, and recommend top rating movies that the user has not rated."
   ]
  },
  {
   "cell_type": "code",
   "execution_count": 44,
   "metadata": {},
   "outputs": [],
   "source": [
    "combined = pd.read_csv('data/combined_info.csv',index_col=0)"
   ]
  },
  {
   "cell_type": "code",
   "execution_count": 16,
   "metadata": {},
   "outputs": [],
   "source": [
    "user_id = 1"
   ]
  },
  {
   "cell_type": "code",
   "execution_count": 9,
   "metadata": {},
   "outputs": [],
   "source": [
    "rating_mat = rating.pivot_table('rating',index='userId',columns='movieId')"
   ]
  },
  {
   "cell_type": "code",
   "execution_count": 11,
   "metadata": {},
   "outputs": [],
   "source": [
    "movies = list(rating_mat.columns)"
   ]
  },
  {
   "cell_type": "code",
   "execution_count": 55,
   "metadata": {},
   "outputs": [],
   "source": [
    "def get_predictions(user_id):\n",
    "    \"\"\"given a user ID, use the model to predict the user's rating for all the not rated movies\n",
    "    parameter user_id: integer ID of user\n",
    "    return predictions dictionary with movie ID as key and predicted rating as values\"\"\"\n",
    "    predictions = {}\n",
    "    for i in movies:\n",
    "        if rating_mat.loc[user_id, i]>=0:\n",
    "            #print(\"Already rated movie ID:\", i)\n",
    "            pass\n",
    "        else:\n",
    "            pred = alg.predict(user_id, i).est\n",
    "            predictions[i] = pred\n",
    "    return predictions"
   ]
  },
  {
   "cell_type": "code",
   "execution_count": 56,
   "metadata": {},
   "outputs": [],
   "source": [
    "def get_recommend_collab(user_id):\n",
    "    \"\"\"given a user ID, get the movie rating predictions, sort the predictions from high to low,\n",
    "    consider ratings >= 3 for recommendation and output names of the top 10 movies if there are more than 10\n",
    "    parameter user_id: integer ID of user\n",
    "    return the list of movie names with top rating values\n",
    "    \"\"\"\n",
    "    predictions = get_predictions(user_id)\n",
    "    predictions_df = pd.DataFrame.from_dict(predictions,orient='index',columns=['prediction'])\n",
    "    predictions_df = predictions_df.sort_values(by='prediction',ascending=False)\n",
    "    predictions_scores = predictions_df[predictions_df['prediction']>=3]\n",
    "    if predictions_scores.shape[0] >= 10:\n",
    "        movie_ids = list(predictions_scores.index[:10])\n",
    "    else:\n",
    "        movie_ids = list(predictions_scores.index)\n",
    "    recom_list = []\n",
    "    for i in movie_ids:\n",
    "        try:        \n",
    "            a = combined.loc[i,'title']\n",
    "            recom_list.append(a)\n",
    "        except:\n",
    "            pass\n",
    "    return recom_list"
   ]
  },
  {
   "cell_type": "code",
   "execution_count": 57,
   "metadata": {},
   "outputs": [
    {
     "data": {
      "text/plain": [
       "['Sleepless in Seattle',\n",
       " 'The Million Dollar Hotel',\n",
       " 'The Thomas Crown Affair',\n",
       " 'While You Were Sleeping',\n",
       " 'Broken Blossoms',\n",
       " 'Galaxy Quest']"
      ]
     },
     "execution_count": 57,
     "metadata": {},
     "output_type": "execute_result"
    }
   ],
   "source": [
    "get_recommend_collab(1)"
   ]
  },
  {
   "cell_type": "code",
   "execution_count": null,
   "metadata": {},
   "outputs": [],
   "source": []
  }
 ],
 "metadata": {
  "kernelspec": {
   "display_name": "Python [conda env:bdata] *",
   "language": "python",
   "name": "conda-env-bdata-py"
  },
  "language_info": {
   "codemirror_mode": {
    "name": "ipython",
    "version": 3
   },
   "file_extension": ".py",
   "mimetype": "text/x-python",
   "name": "python",
   "nbconvert_exporter": "python",
   "pygments_lexer": "ipython3",
   "version": "3.8.11"
  }
 },
 "nbformat": 4,
 "nbformat_minor": 2
}
